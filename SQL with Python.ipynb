{
 "cells": [
  {
   "cell_type": "code",
   "execution_count": 43,
   "id": "f178b57f",
   "metadata": {},
   "outputs": [],
   "source": [
    "# import libraries\n",
    "\n",
    "import mysql.connector\n",
    "from mysql.connector import Error\n",
    "import pandas as pd"
   ]
  },
  {
   "cell_type": "code",
   "execution_count": 44,
   "id": "b9dbc19d",
   "metadata": {},
   "outputs": [
    {
     "name": "stdout",
     "output_type": "stream",
     "text": [
      "Requirement already satisfied: mysql-connector-python in c:\\users\\k33rt\\anaconda3\\lib\\site-packages (8.0.33)\n",
      "Requirement already satisfied: protobuf<=3.20.3,>=3.11.0 in c:\\users\\k33rt\\anaconda3\\lib\\site-packages (from mysql-connector-python) (3.20.3)\n"
     ]
    }
   ],
   "source": [
    "!pip install mysql-connector-python\n"
   ]
  },
  {
   "cell_type": "code",
   "execution_count": 45,
   "id": "3193da12",
   "metadata": {},
   "outputs": [
    {
     "name": "stdout",
     "output_type": "stream",
     "text": [
      "MySQL Database connection successful\n"
     ]
    }
   ],
   "source": [
    "def create_server_connection(host_name, user_name, user_password):\n",
    "    connection = None\n",
    "    try:\n",
    "        connection = mysql.connector.connect(\n",
    "            host = host_name,\n",
    "            user = user_name,\n",
    "            passwd = user_password\n",
    "        )\n",
    "        print(\"MySQL Database connection successful\")\n",
    "    except Error as err:\n",
    "        print(f\"Error: '{err}'\")\n",
    "    return connection\n",
    "              \n",
    "# put our MySQL Terminal password\n",
    "pw = \"k33rth1@K\"\n",
    "# Database name\n",
    "db = \"mysql_python\"\n",
    "connection = create_server_connection(\"localhost\", \"root\",pw)"
   ]
  },
  {
   "cell_type": "code",
   "execution_count": 46,
   "id": "4fa05ba4",
   "metadata": {},
   "outputs": [
    {
     "name": "stdout",
     "output_type": "stream",
     "text": [
      "Error:'1007 (HY000): Can't create database 'mysql_python'; database exists'\n"
     ]
    }
   ],
   "source": [
    "# Create mysql_python\n",
    "\n",
    "def create_database(connection, query):\n",
    "    cursor = connection.cursor()\n",
    "    try:\n",
    "        cursor.execute(query)\n",
    "        print(\"Database create successfully\")\n",
    "    except Error as err:\n",
    "        print(f\"Error:'{err}'\")\n",
    "create_database_query = \"Create database mysql_python\"\n",
    "create_database(connection,create_database_query)"
   ]
  },
  {
   "cell_type": "code",
   "execution_count": 47,
   "id": "b436a6cd",
   "metadata": {},
   "outputs": [],
   "source": [
    "# connect to database\n",
    "def create_db_connection(host_name, user_name, user_password, db_name):\n",
    "    connection = None\n",
    "    try:\n",
    "        connection = mysql.connector.connect(\n",
    "            host = host_name,\n",
    "            user = user_name,\n",
    "            passwd = user_password,\n",
    "            database = db_name)\n",
    "        print(\"MySQL database connection successfull\")\n",
    "    except Error as err:\n",
    "        print(f\"Error: '{err}'\")\n",
    "    return connection\n"
   ]
  },
  {
   "cell_type": "code",
   "execution_count": 48,
   "id": "d1ec1a0e",
   "metadata": {},
   "outputs": [],
   "source": [
    "#Execute sql queries\n",
    "def execute_query(connection, query):\n",
    "    cursor = connection.cursor()\n",
    "    try:\n",
    "        cursor.execute(query)\n",
    "        connection.commit()\n",
    "        print(\"Query was successful\")\n",
    "    except Error as err:\n",
    "        print(f\"Error: '{err}'\")\n",
    "              "
   ]
  },
  {
   "cell_type": "code",
   "execution_count": 62,
   "id": "a08b2666",
   "metadata": {},
   "outputs": [
    {
     "name": "stdout",
     "output_type": "stream",
     "text": [
      "MySQL database connection successfull\n",
      "Error: '1050 (42S01): Table 'orders' already exists'\n"
     ]
    }
   ],
   "source": [
    "create_orders_table = \"\"\"\n",
    "create table orders(\n",
    "order_id int primary key,\n",
    "customer_name varchar(30) not null,\n",
    "product_name varchar(20) not null,\n",
    "date_ordered date,\n",
    "quantity int,\n",
    "unit_print float,\n",
    "phone_number varchar(20));\n",
    "\"\"\"\n",
    " # connect to the database\n",
    "connection = create_db_connection(\"localhost\", \"root\", pw, db)\n",
    "execute_query(connection, create_orders_table)"
   ]
  },
  {
   "cell_type": "code",
   "execution_count": 50,
   "id": "3223d4ae",
   "metadata": {},
   "outputs": [
    {
     "name": "stdout",
     "output_type": "stream",
     "text": [
      "MySQL database connection successfull\n",
      "Error: '1062 (23000): Duplicate entry '101' for key 'orders.PRIMARY''\n"
     ]
    }
   ],
   "source": [
    "# insert data\n",
    "data_orders = \"\"\"\n",
    "insert into orders values\n",
    "(101, 'Steve','Laptop','2018-06-12', 3, 600,'75839380937'),\n",
    "(102, 'Emily', 'Desktop', '2019-02-28', 5, 800, '98274582738'),\n",
    "(103, 'Michael', 'Tablet', '2020-09-15', 2, 350, '62518472948'),\n",
    "(104, 'Jessica', 'Smartphone', '2021-04-03', 1, 500, '81374918472'),\n",
    "(105, 'Andrew', 'Laptop', '2017-11-20', 4, 700, '45832749183'),\n",
    "(106, 'Sophia', 'Desktop', '2018-08-05', 6, 850, '91284759473');\n",
    "\"\"\"\n",
    "connection = create_db_connection(\"localhost\", \"root\", pw, db)\n",
    "execute_query(connection, data_orders)"
   ]
  },
  {
   "cell_type": "code",
   "execution_count": 51,
   "id": "1b6967f3",
   "metadata": {},
   "outputs": [],
   "source": [
    "def read_query(connection, query):\n",
    "    cursor = connection.cursor()\n",
    "    result = None\n",
    "    try:\n",
    "        cursor.execute(query)\n",
    "        result = cursor.fetchall()\n",
    "        return result\n",
    "    except Error as err:\n",
    "        print(f\"Error: '{err}'\")"
   ]
  },
  {
   "cell_type": "code",
   "execution_count": 52,
   "id": "8ebc76c6",
   "metadata": {},
   "outputs": [
    {
     "name": "stdout",
     "output_type": "stream",
     "text": [
      "MySQL database connection successfull\n",
      "(101, 'Steve', 'Laptop', datetime.date(2018, 6, 12), 3, 600.0, '75839380937')\n",
      "(102, 'Emily', 'Desktop', datetime.date(2019, 2, 28), 5, 800.0, '98274582738')\n",
      "(103, 'Michael', 'Tablet', datetime.date(2020, 9, 15), 2, 350.0, '62518472948')\n",
      "(104, 'Jessica', 'Smartphone', datetime.date(2021, 4, 3), 1, 500.0, '81374918472')\n",
      "(105, 'Andrew', 'Laptop', datetime.date(2017, 11, 20), 4, 700.0, '45832749183')\n",
      "(106, 'Sophia', 'Desktop', datetime.date(2018, 8, 5), 6, 850.0, '91284759473')\n"
     ]
    }
   ],
   "source": [
    "# using the select stmt\n",
    "q1 = \"\"\"\n",
    "select * from orders;\n",
    "\"\"\"\n",
    "connection = create_db_connection(\"localhost\", \"root\", pw, db)\n",
    "results = read_query(connection, q1)\n",
    "for result in results:\n",
    "    print(result)\n"
   ]
  },
  {
   "cell_type": "code",
   "execution_count": 53,
   "id": "bde1f68a",
   "metadata": {},
   "outputs": [
    {
     "name": "stdout",
     "output_type": "stream",
     "text": [
      "MySQL database connection successfull\n",
      "('Steve', '75839380937')\n",
      "('Emily', '98274582738')\n",
      "('Michael', '62518472948')\n",
      "('Jessica', '81374918472')\n",
      "('Andrew', '45832749183')\n",
      "('Sophia', '91284759473')\n"
     ]
    }
   ],
   "source": [
    "# using the select stmt\n",
    "q1 = \"\"\"\n",
    "select customer_name,phone_number from orders;\n",
    "\"\"\"\n",
    "connection = create_db_connection(\"localhost\", \"root\", pw, db)\n",
    "results = read_query(connection, q1)\n",
    "for result in results:\n",
    "    print(result)\n"
   ]
  },
  {
   "cell_type": "code",
   "execution_count": 54,
   "id": "e4328c73",
   "metadata": {},
   "outputs": [
    {
     "name": "stdout",
     "output_type": "stream",
     "text": [
      "MySQL database connection successfull\n",
      "(2018,)\n",
      "(2019,)\n",
      "(2020,)\n",
      "(2021,)\n",
      "(2017,)\n",
      "(2018,)\n"
     ]
    }
   ],
   "source": [
    "q3 = \"\"\"\n",
    "select year(date_ordered) from orders;\n",
    "\"\"\"\n",
    "connection = create_db_connection(\"localhost\", \"root\", pw, db)\n",
    "results = read_query(connection, q3)\n",
    "for result in results:\n",
    "    print(result)\n"
   ]
  },
  {
   "cell_type": "code",
   "execution_count": 55,
   "id": "1b8d5da3",
   "metadata": {},
   "outputs": [
    {
     "name": "stdout",
     "output_type": "stream",
     "text": [
      "MySQL database connection successfull\n",
      "(2018,)\n",
      "(2019,)\n",
      "(2020,)\n",
      "(2021,)\n",
      "(2017,)\n"
     ]
    }
   ],
   "source": [
    "q4 = \"\"\"\n",
    "select distinct year(date_ordered) from orders;\n",
    "\"\"\"\n",
    "connection = create_db_connection(\"localhost\", \"root\", pw, db)\n",
    "results = read_query(connection, q4)\n",
    "for result in results:\n",
    "    print(result)\n"
   ]
  },
  {
   "cell_type": "code",
   "execution_count": 56,
   "id": "1aac115e",
   "metadata": {},
   "outputs": [
    {
     "name": "stdout",
     "output_type": "stream",
     "text": [
      "MySQL database connection successfull\n",
      "(101, 'Steve', 'Laptop', datetime.date(2018, 6, 12), 3, 600.0, '75839380937')\n",
      "(105, 'Andrew', 'Laptop', datetime.date(2017, 11, 20), 4, 700.0, '45832749183')\n",
      "(106, 'Sophia', 'Desktop', datetime.date(2018, 8, 5), 6, 850.0, '91284759473')\n"
     ]
    }
   ],
   "source": [
    "q5 = \"\"\"\n",
    "select * from orders where date_ordered < '2018-12-31'\n",
    "\"\"\"\n",
    "connection = create_db_connection(\"localhost\", \"root\", pw, db)\n",
    "results = read_query(connection, q5)\n",
    "for result in results:\n",
    "    print(result)\n"
   ]
  },
  {
   "cell_type": "code",
   "execution_count": 57,
   "id": "a78b3a7f",
   "metadata": {},
   "outputs": [
    {
     "name": "stdout",
     "output_type": "stream",
     "text": [
      "MySQL database connection successfull\n",
      "(102, 'Emily', 'Desktop', datetime.date(2019, 2, 28), 5, 800.0, '98274582738')\n",
      "(103, 'Michael', 'Tablet', datetime.date(2020, 9, 15), 2, 350.0, '62518472948')\n",
      "(104, 'Jessica', 'Smartphone', datetime.date(2021, 4, 3), 1, 500.0, '81374918472')\n"
     ]
    }
   ],
   "source": [
    "q6 = \"\"\"\n",
    "select * from orders where date_ordered > '2018-12-31'\n",
    "\"\"\"\n",
    "connection = create_db_connection(\"localhost\", \"root\", pw, db)\n",
    "results = read_query(connection, q6)\n",
    "for result in results:\n",
    "    print(result)\n"
   ]
  },
  {
   "cell_type": "code",
   "execution_count": 61,
   "id": "91c81a8a",
   "metadata": {},
   "outputs": [
    {
     "name": "stdout",
     "output_type": "stream",
     "text": [
      "MySQL database connection successfull\n",
      "(103, 'Michael', 'Tablet', datetime.date(2020, 9, 15), 2, 350.0, '62518472948')\n",
      "(104, 'Jessica', 'Smartphone', datetime.date(2021, 4, 3), 1, 500.0, '81374918472')\n",
      "(101, 'Steve', 'Laptop', datetime.date(2018, 6, 12), 3, 600.0, '75839380937')\n",
      "(105, 'Andrew', 'Laptop', datetime.date(2017, 11, 20), 4, 700.0, '45832749183')\n",
      "(102, 'Emily', 'Desktop', datetime.date(2019, 2, 28), 5, 800.0, '98274582738')\n",
      "(106, 'Sophia', 'Desktop', datetime.date(2018, 8, 5), 6, 850.0, '91284759473')\n"
     ]
    }
   ],
   "source": [
    "q7 = \"\"\"\n",
    "select * from orders order by unit_print;\n",
    "\"\"\"\n",
    "connection = create_db_connection(\"localhost\", \"root\", pw, db)\n",
    "results = read_query(connection, q7)\n",
    "for result in results:\n",
    "    print(result)\n"
   ]
  },
  {
   "cell_type": "code",
   "execution_count": 65,
   "id": "bf9950d6",
   "metadata": {},
   "outputs": [
    {
     "data": {
      "text/html": [
       "<div>\n",
       "<style scoped>\n",
       "    .dataframe tbody tr th:only-of-type {\n",
       "        vertical-align: middle;\n",
       "    }\n",
       "\n",
       "    .dataframe tbody tr th {\n",
       "        vertical-align: top;\n",
       "    }\n",
       "\n",
       "    .dataframe thead th {\n",
       "        text-align: right;\n",
       "    }\n",
       "</style>\n",
       "<table border=\"1\" class=\"dataframe\">\n",
       "  <thead>\n",
       "    <tr style=\"text-align: right;\">\n",
       "      <th></th>\n",
       "      <th>order_id</th>\n",
       "      <th>customer_name</th>\n",
       "      <th>product_name</th>\n",
       "      <th>date_ordered</th>\n",
       "      <th>quantity</th>\n",
       "      <th>unit_price</th>\n",
       "      <th>phone_number</th>\n",
       "    </tr>\n",
       "  </thead>\n",
       "  <tbody>\n",
       "    <tr>\n",
       "      <th>0</th>\n",
       "      <td>103</td>\n",
       "      <td>Michael</td>\n",
       "      <td>Tablet</td>\n",
       "      <td>2020-09-15</td>\n",
       "      <td>2</td>\n",
       "      <td>350.0</td>\n",
       "      <td>62518472948</td>\n",
       "    </tr>\n",
       "    <tr>\n",
       "      <th>1</th>\n",
       "      <td>104</td>\n",
       "      <td>Jessica</td>\n",
       "      <td>Smartphone</td>\n",
       "      <td>2021-04-03</td>\n",
       "      <td>1</td>\n",
       "      <td>500.0</td>\n",
       "      <td>81374918472</td>\n",
       "    </tr>\n",
       "    <tr>\n",
       "      <th>2</th>\n",
       "      <td>101</td>\n",
       "      <td>Steve</td>\n",
       "      <td>Laptop</td>\n",
       "      <td>2018-06-12</td>\n",
       "      <td>3</td>\n",
       "      <td>600.0</td>\n",
       "      <td>75839380937</td>\n",
       "    </tr>\n",
       "    <tr>\n",
       "      <th>3</th>\n",
       "      <td>105</td>\n",
       "      <td>Andrew</td>\n",
       "      <td>Laptop</td>\n",
       "      <td>2017-11-20</td>\n",
       "      <td>4</td>\n",
       "      <td>700.0</td>\n",
       "      <td>45832749183</td>\n",
       "    </tr>\n",
       "    <tr>\n",
       "      <th>4</th>\n",
       "      <td>102</td>\n",
       "      <td>Emily</td>\n",
       "      <td>Desktop</td>\n",
       "      <td>2019-02-28</td>\n",
       "      <td>5</td>\n",
       "      <td>800.0</td>\n",
       "      <td>98274582738</td>\n",
       "    </tr>\n",
       "    <tr>\n",
       "      <th>5</th>\n",
       "      <td>106</td>\n",
       "      <td>Sophia</td>\n",
       "      <td>Desktop</td>\n",
       "      <td>2018-08-05</td>\n",
       "      <td>6</td>\n",
       "      <td>850.0</td>\n",
       "      <td>91284759473</td>\n",
       "    </tr>\n",
       "  </tbody>\n",
       "</table>\n",
       "</div>"
      ],
      "text/plain": [
       "   order_id customer_name product_name date_ordered  quantity  unit_price  \\\n",
       "0       103       Michael       Tablet   2020-09-15         2       350.0   \n",
       "1       104       Jessica   Smartphone   2021-04-03         1       500.0   \n",
       "2       101         Steve       Laptop   2018-06-12         3       600.0   \n",
       "3       105        Andrew       Laptop   2017-11-20         4       700.0   \n",
       "4       102         Emily      Desktop   2019-02-28         5       800.0   \n",
       "5       106        Sophia      Desktop   2018-08-05         6       850.0   \n",
       "\n",
       "  phone_number  \n",
       "0  62518472948  \n",
       "1  81374918472  \n",
       "2  75839380937  \n",
       "3  45832749183  \n",
       "4  98274582738  \n",
       "5  91284759473  "
      ]
     },
     "metadata": {},
     "output_type": "display_data"
    }
   ],
   "source": [
    "from_db = []\n",
    "\n",
    "for result in results:\n",
    "    result = list(result)\n",
    "    from_db.append(result)\n",
    "columns = [\"order_id\", \"customer_name\", \"product_name\", \"date_ordered\", \"quantity\", \"unit_price\", \"phone_number\"]\n",
    "df = pd.DataFrame(from_db, columns = columns)\n",
    "display(df)"
   ]
  },
  {
   "cell_type": "code",
   "execution_count": 66,
   "id": "df7af9f9",
   "metadata": {},
   "outputs": [
    {
     "name": "stdout",
     "output_type": "stream",
     "text": [
      "MySQL database connection successfull\n",
      "Query was successful\n"
     ]
    }
   ],
   "source": [
    "# Update command\n",
    "update = \"\"\"\n",
    "update orders\n",
    "set unit_print = 45\n",
    "where order_id = 103\n",
    "\"\"\"\n",
    "connection = create_db_connection(\"localhost\", \"root\", pw, db)\n",
    "execute_query(connection, update)"
   ]
  },
  {
   "cell_type": "code",
   "execution_count": 67,
   "id": "41333f44",
   "metadata": {},
   "outputs": [
    {
     "name": "stdout",
     "output_type": "stream",
     "text": [
      "MySQL database connection successfull\n",
      "(103, 'Michael', 'Tablet', datetime.date(2020, 9, 15), 2, 45.0, '62518472948')\n"
     ]
    }
   ],
   "source": [
    "q8 = \"\"\"\n",
    "select * from orders where order_id = 103;\n",
    "\"\"\"\n",
    "connection = create_db_connection(\"localhost\", \"root\", pw, db)\n",
    "results = read_query(connection, q8)\n",
    "for result in results:\n",
    "    print(result)"
   ]
  },
  {
   "cell_type": "code",
   "execution_count": 70,
   "id": "001623e6",
   "metadata": {},
   "outputs": [
    {
     "name": "stdout",
     "output_type": "stream",
     "text": [
      "MySQL database connection successfull\n",
      "Query was successful\n"
     ]
    }
   ],
   "source": [
    "#Delete command\n",
    "delete_order = \"\"\"\n",
    "delete from orders\n",
    "where order_id = 105;\n",
    "\"\"\"\n",
    "connection = create_db_connection(\"localhost\", \"root\", pw, db)\n",
    "execute_query(connection, delete_order)"
   ]
  },
  {
   "cell_type": "code",
   "execution_count": 71,
   "id": "38f18ccb",
   "metadata": {},
   "outputs": [
    {
     "name": "stdout",
     "output_type": "stream",
     "text": [
      "MySQL database connection successfull\n",
      "(101, 'Steve', 'Laptop', datetime.date(2018, 6, 12), 3, 600.0, '75839380937')\n",
      "(102, 'Emily', 'Desktop', datetime.date(2019, 2, 28), 5, 800.0, '98274582738')\n",
      "(103, 'Michael', 'Tablet', datetime.date(2020, 9, 15), 2, 45.0, '62518472948')\n",
      "(104, 'Jessica', 'Smartphone', datetime.date(2021, 4, 3), 1, 500.0, '81374918472')\n",
      "(106, 'Sophia', 'Desktop', datetime.date(2018, 8, 5), 6, 850.0, '91284759473')\n"
     ]
    }
   ],
   "source": [
    "q8 = \"\"\"\n",
    "select * from orders;\n",
    "\"\"\"\n",
    "connection = create_db_connection(\"localhost\", \"root\", pw, db)\n",
    "results = read_query(connection, q8)\n",
    "for result in results:\n",
    "    print(result)\n"
   ]
  },
  {
   "cell_type": "code",
   "execution_count": null,
   "id": "390779f3",
   "metadata": {},
   "outputs": [],
   "source": []
  }
 ],
 "metadata": {
  "kernelspec": {
   "display_name": "Python 3 (ipykernel)",
   "language": "python",
   "name": "python3"
  },
  "language_info": {
   "codemirror_mode": {
    "name": "ipython",
    "version": 3
   },
   "file_extension": ".py",
   "mimetype": "text/x-python",
   "name": "python",
   "nbconvert_exporter": "python",
   "pygments_lexer": "ipython3",
   "version": "3.10.9"
  }
 },
 "nbformat": 4,
 "nbformat_minor": 5
}
